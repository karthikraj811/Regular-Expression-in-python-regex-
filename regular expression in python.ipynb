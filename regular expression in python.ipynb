{
 "cells": [
  {
   "cell_type": "code",
   "execution_count": 1,
   "metadata": {},
   "outputs": [],
   "source": [
    "import re"
   ]
  },
  {
   "cell_type": "code",
   "execution_count": 223,
   "metadata": {},
   "outputs": [],
   "source": [
    "regexp = '''\n",
    "                name:karthikraj\n",
    "                email:karthikraj811@gmail.com\n",
    "                mob.no:805*652*5303\n",
    "                \n",
    "                name:pradeepraj\n",
    "                email:pradz1994@gmail.com\n",
    "                mob.no:737-320-5210\n",
    "                \n",
    "                Mr. karthik\n",
    "                Mr. pradeep\n",
    "                ms. kalaiyarasi\n",
    "                \n",
    "                kar karthik\n",
    "                abckar\n",
    "                bbckar\n",
    "                bckar\n",
    "                \n",
    "                \n",
    "                \n",
    "                '''\n",
    "        "
   ]
  },
  {
   "cell_type": "code",
   "execution_count": 127,
   "metadata": {},
   "outputs": [],
   "source": [
    "s='abcd'"
   ]
  },
  {
   "cell_type": "code",
   "execution_count": 128,
   "metadata": {},
   "outputs": [],
   "source": [
    "pattern1 = re.compile(r'\\d{3}.\\d{3}.\\d{4}') #\\d mean digit {3} mean how many consecutive digits,\\\n",
    "                                           #. means whatever charecter there it takes"
   ]
  },
  {
   "cell_type": "code",
   "execution_count": 93,
   "metadata": {},
   "outputs": [
    {
     "name": "stdout",
     "output_type": "stream",
     "text": [
      "<re.Match object; span=(102, 114), match='805*652*5303'>\n",
      "<re.Match object; span=(229, 241), match='737-320-5210'>\n"
     ]
    }
   ],
   "source": [
    "matches = pattern1.finditer(regexp)\n",
    "for match in matches:\n",
    "    print(match)"
   ]
  },
  {
   "cell_type": "code",
   "execution_count": 90,
   "metadata": {},
   "outputs": [],
   "source": [
    "pattern2 = re.compile(r'\\d{3}[-]\\d{3}.\\d{4}') #[-] mean only '-' should come after three digits"
   ]
  },
  {
   "cell_type": "code",
   "execution_count": 94,
   "metadata": {},
   "outputs": [
    {
     "name": "stdout",
     "output_type": "stream",
     "text": [
      "<re.Match object; span=(229, 241), match='737-320-5210'>\n"
     ]
    }
   ],
   "source": [
    "matches = pattern2.finditer(regexp)\n",
    "for match in matches:\n",
    "    print(match)"
   ]
  },
  {
   "cell_type": "code",
   "execution_count": 91,
   "metadata": {},
   "outputs": [],
   "source": [
    "pattern3 = re.compile(r'(Mr|ms)\\.\\s\\w+')  #\\. if we type \\ before .(dot) it will not work like regular expression like in pattern 1"
   ]
  },
  {
   "cell_type": "code",
   "execution_count": 95,
   "metadata": {},
   "outputs": [
    {
     "name": "stdout",
     "output_type": "stream",
     "text": [
      "<re.Match object; span=(275, 286), match='Mr. karthik'>\n",
      "<re.Match object; span=(303, 314), match='Mr. pradeep'>\n",
      "<re.Match object; span=(331, 346), match='ms. kalaiyarasi'>\n"
     ]
    }
   ],
   "source": [
    "matches = pattern3.finditer(regexp)\n",
    "for match in matches:\n",
    "    print(match)"
   ]
  },
  {
   "cell_type": "code",
   "execution_count": 96,
   "metadata": {},
   "outputs": [],
   "source": [
    "pattern4 = re.compile('(Mr|ms)\\.\\s\\w+')"
   ]
  },
  {
   "cell_type": "code",
   "execution_count": 106,
   "metadata": {},
   "outputs": [
    {
     "name": "stdout",
     "output_type": "stream",
     "text": [
      "Mr. karthik\n",
      "Mr. pradeep\n",
      "ms. kalaiyarasi\n"
     ]
    }
   ],
   "source": [
    "matches = pattern4.finditer(regexp)\n",
    "for match in matches:\n",
    "    print(match.group(0))"
   ]
  },
  {
   "cell_type": "code",
   "execution_count": null,
   "metadata": {},
   "outputs": [],
   "source": [
    "# meta characters\n",
    "# . ^ $ * + ? { } [ ] \\ | ( )  the character need to be escaped by using like(for '.' we need to type '\\.')"
   ]
  },
  {
   "cell_type": "code",
   "execution_count": null,
   "metadata": {},
   "outputs": [],
   "source": [
    "''' snippets\n",
    "       . - Any charcter except newline(\\n)\n",
    "      \\d -digit(0-9)\n",
    "      \\D - not a digit(0-9)\n",
    "      \\w - word character (a-z, A-Z, 0-9, _ )\n",
    "      \\W - not a word character\n",
    "      \\s - white space(space,tab,newline)\n",
    "      \\S - not a white space(space,tab,newline)\n",
    "      \n",
    "      \n",
    "      \\b - word boundary\n",
    "      \\B- not a Word boundry\n",
    "      ^ - Beginning of the string\n",
    "      \n",
    "      \n",
    "      Quantifiers:\n",
    "      \n",
    "      * - 0 or more\n",
    "      + - 1 or more\n",
    "      ? - 0 or one\n",
    "      {3} - exact number\n",
    "      {3,4} - range of numbers(minimum,maximum)\n",
    "\n",
    "'''"
   ]
  },
  {
   "cell_type": "code",
   "execution_count": 135,
   "metadata": {},
   "outputs": [],
   "source": [
    "pattern5 = re.compile(r'\\bkar')  #\\b it gives if any word start with kar not in between words like 'abckarjdj' \n",
    "#                                  but it give any charcter like :kar\n",
    "#                                   it is called word boundry"
   ]
  },
  {
   "cell_type": "code",
   "execution_count": 130,
   "metadata": {},
   "outputs": [
    {
     "name": "stdout",
     "output_type": "stream",
     "text": [
      "<re.Match object; span=(22, 25), match='kar'>\n",
      "<re.Match object; span=(55, 58), match='kar'>\n",
      "<re.Match object; span=(279, 282), match='kar'>\n",
      "<re.Match object; span=(380, 383), match='kar'>\n",
      "<re.Match object; span=(384, 387), match='kar'>\n"
     ]
    }
   ],
   "source": [
    "matches = pattern5.finditer(regexp)\n",
    "for match in matches:\n",
    "    print(match)"
   ]
  },
  {
   "cell_type": "code",
   "execution_count": 134,
   "metadata": {},
   "outputs": [
    {
     "data": {
      "text/plain": [
       "'karthikraj811@g'"
      ]
     },
     "execution_count": 134,
     "metadata": {},
     "output_type": "execute_result"
    }
   ],
   "source": [
    "regexp[55:70]"
   ]
  },
  {
   "cell_type": "code",
   "execution_count": 137,
   "metadata": {},
   "outputs": [],
   "source": [
    "pattern6 = re.compile(r'\\Bkar') # exact opposite to \\b  it give in between 'kar'"
   ]
  },
  {
   "cell_type": "code",
   "execution_count": 138,
   "metadata": {},
   "outputs": [
    {
     "name": "stdout",
     "output_type": "stream",
     "text": [
      "<re.Match object; span=(411, 414), match='kar'>\n"
     ]
    }
   ],
   "source": [
    "matches = pattern6.finditer(regexp)\n",
    "for match in matches:\n",
    "    print(match)"
   ]
  },
  {
   "cell_type": "code",
   "execution_count": 140,
   "metadata": {},
   "outputs": [
    {
     "data": {
      "text/plain": [
       "'abckar'"
      ]
     },
     "execution_count": 140,
     "metadata": {},
     "output_type": "execute_result"
    }
   ],
   "source": [
    "regexp[408:414]"
   ]
  },
  {
   "cell_type": "code",
   "execution_count": 141,
   "metadata": {},
   "outputs": [],
   "source": [
    "line = 'Kill them with your succes and Bury them with your smile'"
   ]
  },
  {
   "cell_type": "code",
   "execution_count": 152,
   "metadata": {},
   "outputs": [],
   "source": [
    "finding = re.compile(r'^kill',flags=re.I) # re.I means IGNORECASE ignoring uppercase\n",
    "finding_last = re.compile(r'smile$')"
   ]
  },
  {
   "cell_type": "code",
   "execution_count": 153,
   "metadata": {},
   "outputs": [
    {
     "name": "stdout",
     "output_type": "stream",
     "text": [
      "<re.Match object; span=(0, 4), match='Kill'>\n"
     ]
    }
   ],
   "source": [
    "matches = finding.finditer(line)\n",
    "for match in matches:\n",
    "    print(match)"
   ]
  },
  {
   "cell_type": "code",
   "execution_count": null,
   "metadata": {},
   "outputs": [],
   "source": []
  },
  {
   "cell_type": "code",
   "execution_count": 196,
   "metadata": {},
   "outputs": [],
   "source": [
    "pattern7 = re.compile(r'[a-zA-Z0-9]\\w+@(gmail|yahoo)\\.(com|net)') #a to z or A to Z or 0 to 9"
   ]
  },
  {
   "cell_type": "code",
   "execution_count": 197,
   "metadata": {},
   "outputs": [
    {
     "name": "stdout",
     "output_type": "stream",
     "text": [
      "<re.Match object; span=(55, 78), match='karthikraj811@gmail.com'>\n",
      "<re.Match object; span=(186, 205), match='pradz1994@gmail.com'>\n"
     ]
    }
   ],
   "source": [
    "matches = pattern7.finditer(regexp)\n",
    "for match in matches:\n",
    "    print(match)"
   ]
  },
  {
   "cell_type": "code",
   "execution_count": 180,
   "metadata": {},
   "outputs": [],
   "source": [
    "pattern7 = re.compile(r'[a-zA-Z0-9]\\w+@(gmail|yahoo)\\.(com|net)') #groups"
   ]
  },
  {
   "cell_type": "code",
   "execution_count": 182,
   "metadata": {},
   "outputs": [
    {
     "name": "stdout",
     "output_type": "stream",
     "text": [
      "karthikraj811@gmail.com\n",
      "gmail\n",
      "com\n",
      "pradz1994@gmail.com\n",
      "gmail\n",
      "com\n"
     ]
    }
   ],
   "source": [
    "matches = pattern7.finditer(regexp)\n",
    "for match in matches:\n",
    "    print(match.group(0))\n",
    "    print(match.group(1))\n",
    "    print(match.group(2))\n"
   ]
  },
  {
   "cell_type": "code",
   "execution_count": 183,
   "metadata": {},
   "outputs": [],
   "source": [
    "# ? is used for optional"
   ]
  },
  {
   "cell_type": "code",
   "execution_count": 226,
   "metadata": {},
   "outputs": [],
   "source": [
    "pattern8  = re.compile(r'(a|b)?bc\\w+') # a or b or None that is the meaning of '?' here"
   ]
  },
  {
   "cell_type": "code",
   "execution_count": 227,
   "metadata": {},
   "outputs": [
    {
     "name": "stdout",
     "output_type": "stream",
     "text": [
      "<re.Match object; span=(408, 414), match='abckar'>\n",
      "<re.Match object; span=(431, 437), match='bbckar'>\n",
      "<re.Match object; span=(454, 459), match='bckar'>\n"
     ]
    }
   ],
   "source": [
    "matches = pattern8.finditer(regexp)\n",
    "for match in matches:\n",
    "    print(match)"
   ]
  },
  {
   "cell_type": "code",
   "execution_count": null,
   "metadata": {},
   "outputs": [],
   "source": []
  }
 ],
 "metadata": {
  "kernelspec": {
   "display_name": "Python 3",
   "language": "python",
   "name": "python3"
  },
  "language_info": {
   "codemirror_mode": {
    "name": "ipython",
    "version": 3
   },
   "file_extension": ".py",
   "mimetype": "text/x-python",
   "name": "python",
   "nbconvert_exporter": "python",
   "pygments_lexer": "ipython3",
   "version": "3.8.3"
  }
 },
 "nbformat": 4,
 "nbformat_minor": 4
}
